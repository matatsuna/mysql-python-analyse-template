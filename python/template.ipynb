{
 "cells": [
  {
   "cell_type": "markdown",
   "metadata": {},
   "source": [
    "# ライブラリの読み込み"
   ]
  },
  {
   "cell_type": "code",
   "execution_count": 1,
   "metadata": {},
   "outputs": [
    {
     "name": "stdout",
     "output_type": "stream",
     "text": [
      "IPAexGothic:style=normal:variant=normal:weight=normal:stretch=normal:file=/usr/share/fonts/truetype/ipaexg/ipaexg.ttf:size=10.0\n"
     ]
    }
   ],
   "source": [
    "import matplotlib.pyplot as plt\n",
    "import numpy as np\n",
    "%matplotlib inline\n",
    "from matplotlib.font_manager import FontProperties\n",
    "font_path = '/usr/share/fonts/truetype/ipaexg/ipaexg.ttf'\n",
    "font_prop = FontProperties(fname=font_path)\n",
    "print(font_prop)\n"
   ]
  },
  {
   "cell_type": "markdown",
   "metadata": {},
   "source": [
    "# DBの接続"
   ]
  },
  {
   "cell_type": "code",
   "execution_count": 3,
   "metadata": {},
   "outputs": [],
   "source": [
    "# https://qiita.com/nuri/items/255e91ae4a68dfe0446b\n",
    "from urllib.parse import urlparse\n",
    "import mysql.connector\n",
    "import pandas as pd\n",
    "import pandas.io.sql as psql\n",
    "\n",
    "#         #\n",
    "# SQL接続 #\n",
    "#         #\n",
    "# urlparse('mysql://<ユーザー名>:<パスワード>@mysql-python-analyse-mysql:3306/<hoge_db>')\n",
    "url = urlparse('mysql://<ユーザー名>:<パスワード>@mysql-python-analyse-mysql:3306/<hoge_db>')\n",
    "con = mysql.connector.connect(\n",
    "    host = url.hostname or 'localhost',\n",
    "    port = url.port or 3306,\n",
    "    user = url.username or 'root',\n",
    "    password = url.password or '',\n",
    "    database = url.path[1:],\n",
    ")"
   ]
  },
  {
   "cell_type": "code",
   "execution_count": null,
   "metadata": {},
   "outputs": [],
   "source": [
    "# 取得する\n",
    "read_sql = \"\"\"\n",
    "SELECT *\n",
    "FROM  fuga_table\n",
    "\"\"\"\n",
    "data = psql.read_sql(read_sql, con)"
   ]
  },
  {
   "cell_type": "code",
   "execution_count": null,
   "metadata": {},
   "outputs": [],
   "source": [
    "# plot時の日本語化\n",
    "# ax.set_xlabel(\"テスト\",fontproperties=font_prop)\n",
    "# fig.legend(prop=font_prop,loc=(0.660,0.18))\n",
    "\n",
    "# plot例\n",
    "# fig = plt.figure(dpi=200,figsize=(10,4),facecolor='w')\n",
    "# ax = fig.add_subplot(111)\n",
    "# ax.plot(range(1,51),y,marker='o')\n",
    "# ax.set_ylim([100,200])\n",
    "# ax.set_xlim([0.5,50.5])\n",
    "# ax.set_ylabel(\"CPM\",fontproperties=font_prop)\n",
    "# ax.set_xlabel(\"タイピング回数分割区間\",fontproperties=font_prop)\n",
    "# fig.show()"
   ]
  }
 ],
 "metadata": {
  "kernelspec": {
   "display_name": "Python 3",
   "language": "python",
   "name": "python3"
  },
  "language_info": {
   "codemirror_mode": {
    "name": "ipython",
    "version": 3
   },
   "file_extension": ".py",
   "mimetype": "text/x-python",
   "name": "python",
   "nbconvert_exporter": "python",
   "pygments_lexer": "ipython3",
   "version": "3.8.4"
  }
 },
 "nbformat": 4,
 "nbformat_minor": 4
}
